{
  "nbformat": 4,
  "nbformat_minor": 0,
  "metadata": {
    "colab": {
      "provenance": [],
      "include_colab_link": true
    },
    "kernelspec": {
      "name": "python3",
      "display_name": "Python 3"
    },
    "language_info": {
      "name": "python"
    }
  },
  "cells": [
    {
      "cell_type": "markdown",
      "metadata": {
        "id": "view-in-github",
        "colab_type": "text"
      },
      "source": [
        "<a href=\"https://colab.research.google.com/github/Mithesh6369894902/CODSOFT-INTERNSHIP/blob/main/CHATBOT_WITH_RULE_BASED_RESPONSES.ipynb\" target=\"_parent\"><img src=\"https://colab.research.google.com/assets/colab-badge.svg\" alt=\"Open In Colab\"/></a>"
      ]
    },
    {
      "cell_type": "markdown",
      "source": [
        "**Data**"
      ],
      "metadata": {
        "id": "0S0-Dhcug0Ck"
      }
    },
    {
      "cell_type": "code",
      "execution_count": 1,
      "metadata": {
        "id": "NxliYP_Yaw68"
      },
      "outputs": [],
      "source": [
        "data = {\n",
        "    \"hi\": \"Hi there! I'm a friendly chatbot here to assist you.\",\n",
        "    \"hello\": \"Hello! How can I help you today?\",\n",
        "    \"what is your name\": \"I'm just a chatbot, so I don't have a name, but you can call me ChatBot.\",\n",
        "    \"where are you from\": \"I'm from the digital world, always ready to chat!\",\n",
        "    \"how are you\": \"I'm just a chatbot, but I'm here to assist you.\",\n",
        "    \"do you have any hobbies or interests?\": \"I'm always busy helping users, so my hobby is chatting with people like you!\",\n",
        "    \"what did you eat today?\": \"I don't eat, but I can help you find delicious recipes and food-related information.\",\n",
        "    \"what's your favorite color?\": \"I'm a chatbot, so I don't have personal preferences for colors.\",\n",
        "    \"do you enjoy listening to music?\": \"I can't listen to music, but I'm here to chat about it!\",\n",
        "    \"bye\": \"Bye! Take care and have a great day!\",\n",
        "    \"exit\": \"Goodbye! Have a great day!\",\n",
        "    \"what is your favorite movie?\": \"I'm a chatbot, so I don't watch movies, but I can help you find information about them.\",\n",
        "    \"can you help me with my homework?\": \"Sure! I can try to help you with your homework. What do you need help with?\",\n",
        "    \"what is the weather like today?\": \"I can't check the weather, but you can use a weather app or website for up-to-date information.\",\n",
        "    \"tell me a joke\": \"Why did the scarecrow win an award? Because he was outstanding in his field!\",\n",
        "    \"what is your purpose?\": \"My purpose is to assist and chat with users like you.\",\n",
        "    \"do you like sports?\": \"I can't play or watch sports, but I can chat about them!\",\n",
        "    \"how old are you?\": \"I'm a digital entity, so I don't have an age.\",\n",
        "    \"what is your favorite book?\": \"I don't read books, but I can help you find information about them.\",\n",
        "    \"what is your favorite food?\": \"I don't eat, but I can help you find recipes and food-related information.\",\n",
        "    \"what languages do you speak?\": \"I can understand and respond in English. How can I assist you?\",\n",
        "}"
      ]
    },
    {
      "cell_type": "markdown",
      "source": [
        "**Function to get User Response**"
      ],
      "metadata": {
        "id": "39SzLaGFg5rF"
      }
    },
    {
      "cell_type": "code",
      "source": [
        "def get_response(user_input):\n",
        "    user_input = user_input.lower().strip()\n",
        "    if user_input in data:\n",
        "        return data[user_input]\n",
        "    for pattern, response in data.items():\n",
        "        if pattern in user_input:\n",
        "            return response\n",
        "    return \"I'm sorry, I didn't understand that. Can you please rephrase your sentence?\"\n",
        "\n",
        "print(\"Chatbot: Hi! I'm a simple chatbot, I'm here to assist you! (Type 'exit' to end the chat)\")\n",
        "\n",
        "while True:\n",
        "    user_input = input(\"Me: \").strip().lower()\n",
        "    if user_input == 'bye' or user_input == 'exit':\n",
        "        print(\"Chatbot: Goodbye! Have a great day!\")\n",
        "        break\n",
        "    response = get_response(user_input)\n",
        "    print(\"Chatbot:\", response)"
      ],
      "metadata": {
        "colab": {
          "base_uri": "https://localhost:8080/"
        },
        "id": "RCZA0IoHgxkm",
        "outputId": "2672d79d-5376-494a-b128-b9ce34094d6e"
      },
      "execution_count": 2,
      "outputs": [
        {
          "output_type": "stream",
          "name": "stdout",
          "text": [
            "Chatbot: Hi! I'm a simple chatbot, I'm here to assist you! (Type 'exit' to end the chat)\n",
            "Me: What is your name?\n",
            "Chatbot: I'm just a chatbot, so I don't have a name, but you can call me ChatBot.\n",
            "Me: what is your favourite color\n",
            "Chatbot: I'm sorry, I didn't understand that. Can you please rephrase your sentence?\n",
            "Me: tell me a joke\n",
            "Chatbot: Why did the scarecrow win an award? Because he was outstanding in his field!\n",
            "Me: exit\n",
            "Chatbot: Goodbye! Have a great day!\n"
          ]
        }
      ]
    }
  ]
}