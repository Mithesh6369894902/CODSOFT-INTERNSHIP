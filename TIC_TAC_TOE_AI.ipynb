{
  "nbformat": 4,
  "nbformat_minor": 0,
  "metadata": {
    "colab": {
      "provenance": [],
      "include_colab_link": true
    },
    "kernelspec": {
      "name": "python3",
      "display_name": "Python 3"
    },
    "language_info": {
      "name": "python"
    }
  },
  "cells": [
    {
      "cell_type": "markdown",
      "metadata": {
        "id": "view-in-github",
        "colab_type": "text"
      },
      "source": [
        "<a href=\"https://colab.research.google.com/github/Mithesh6369894902/CODSOFT-INTERNSHIP/blob/main/TIC_TAC_TOE_AI.ipynb\" target=\"_parent\"><img src=\"https://colab.research.google.com/assets/colab-badge.svg\" alt=\"Open In Colab\"/></a>"
      ]
    },
    {
      "cell_type": "markdown",
      "source": [
        "**Initialization**"
      ],
      "metadata": {
        "id": "mIqwqzRVjNXd"
      }
    },
    {
      "cell_type": "code",
      "execution_count": 2,
      "metadata": {
        "id": "XO3GNhE8iCJe"
      },
      "outputs": [],
      "source": [
        "import math\n",
        "\n",
        "board = ['-'] * 9\n",
        "AI = 'O'\n",
        "YOU = 'X'"
      ]
    },
    {
      "cell_type": "markdown",
      "source": [
        "**Rules**"
      ],
      "metadata": {
        "id": "AAWCQs2gjcEM"
      }
    },
    {
      "cell_type": "code",
      "source": [
        "def print_board(board):\n",
        "    for i in range(0, 9, 3):\n",
        "        print(board[i] + '|' + board[i+1] + '|' + board[i+2])\n",
        "    print()\n",
        "\n",
        "def check_winner(board, player):\n",
        "    winning_combinations = [\n",
        "        [0, 1, 2], [3, 4, 5], [6, 7, 8],  # Rows\n",
        "        [0, 3, 6], [1, 4, 7], [2, 5, 8],  # Columns\n",
        "        [0, 4, 8], [2, 4, 6]              # Diagonals\n",
        "    ]\n",
        "    for combo in winning_combinations:\n",
        "        if all(board[i] == player for i in combo):\n",
        "            return True\n",
        "    return False\n",
        "\n",
        "def is_board_full(board):\n",
        "    return all(cell != '-' for cell in board)\n",
        "\n",
        "def minimax_alpha_beta(board, depth, alpha, beta, maximizing_player):\n",
        "    if check_winner(board, AI):\n",
        "        return 1\n",
        "    elif check_winner(board, YOU):\n",
        "        return -1\n",
        "    elif is_board_full(board):\n",
        "        return 0\n",
        "\n",
        "    if maximizing_player:\n",
        "        max_eval = -math.inf\n",
        "        for i in range(9):\n",
        "            if board[i] == '-':\n",
        "                board[i] = AI\n",
        "                eval = minimax_alpha_beta(board, depth + 1, alpha, beta, False)\n",
        "                board[i] = '-'\n",
        "                max_eval = max(max_eval, eval)\n",
        "                alpha = max(alpha, eval)\n",
        "                if beta <= alpha:\n",
        "                    break\n",
        "        return max_eval\n",
        "    else:\n",
        "        min_eval = math.inf\n",
        "        for i in range(9):\n",
        "            if board[i] == '-':\n",
        "                board[i] = YOU\n",
        "                eval = minimax_alpha_beta(board, depth + 1, alpha, beta, True)\n",
        "                board[i] = '-'\n",
        "                min_eval = min(min_eval, eval)\n",
        "                beta = min(beta, eval)\n",
        "                if beta <= alpha:\n",
        "                    break\n",
        "        return min_eval\n",
        "\n",
        "def find_best_move(board):\n",
        "    best_move = -1\n",
        "    best_eval = -math.inf\n",
        "    for i in range(9):\n",
        "        if board[i] == '-':\n",
        "            board[i] = AI\n",
        "            eval = minimax_alpha_beta(board, 0, -math.inf, math.inf, False)\n",
        "            board[i] = '-'\n",
        "            if eval > best_eval:\n",
        "                best_eval = eval\n",
        "                best_move = i\n",
        "    return best_move\n",
        "\n",
        "def is_valid_move(move):\n",
        "    return move.isdigit() and 0 <= int(move) <= 8 and board[int(move)] == '-'"
      ],
      "metadata": {
        "id": "xfU2_1iMjATe"
      },
      "execution_count": 3,
      "outputs": []
    },
    {
      "cell_type": "markdown",
      "source": [
        "**Interface**"
      ],
      "metadata": {
        "id": "eslQckS-jUoa"
      }
    },
    {
      "cell_type": "code",
      "source": [
        "print(\"Welcome to Tic Tac Toe!\")\n",
        "print(\"You are X and AI is O.\")\n",
        "print(\"To make a move, enter a number between 0 and 8 corresponding to the board position as follows:\")\n",
        "print(\"0 | 1 | 2\")\n",
        "print(\"3 | 4 | 5\")\n",
        "print(\"6 | 7 | 8\")\n",
        "print()\n",
        "\n",
        "while True:\n",
        "    print_board(board)\n",
        "    move = input(\"Select your choice (0-8): \").strip()\n",
        "    if is_valid_move(move):\n",
        "        move = int(move)\n",
        "        board[move] = YOU\n",
        "        if check_winner(board, YOU):\n",
        "            print_board(board)\n",
        "            print(\"You win!\")\n",
        "            break\n",
        "        elif is_board_full(board):\n",
        "            print_board(board)\n",
        "            print(\"It's a draw!\")\n",
        "            break\n",
        "\n",
        "        ai_move = find_best_move(board)\n",
        "        board[ai_move] = AI\n",
        "        if check_winner(board, AI):\n",
        "            print_board(board)\n",
        "            print(\"AI wins!\")\n",
        "            break\n",
        "        elif is_board_full(board):\n",
        "            print_board(board)\n",
        "            print(\"It's a draw!\")\n",
        "            break\n",
        "    else:\n",
        "        print(\"Invalid move. Please try again.\")"
      ],
      "metadata": {
        "colab": {
          "base_uri": "https://localhost:8080/"
        },
        "id": "kubCF_J1jLFa",
        "outputId": "636f1836-1ac3-4efc-ca3a-4dccce5529e5"
      },
      "execution_count": 4,
      "outputs": [
        {
          "output_type": "stream",
          "name": "stdout",
          "text": [
            "Welcome to Tic Tac Toe!\n",
            "You are X and AI is O.\n",
            "To make a move, enter a number between 0 and 8 corresponding to the board position as follows:\n",
            "0 | 1 | 2\n",
            "3 | 4 | 5\n",
            "6 | 7 | 8\n",
            "\n",
            "-|-|-\n",
            "-|-|-\n",
            "-|-|-\n",
            "\n",
            "Select your choice (0-8): 0\n",
            "X|-|-\n",
            "-|O|-\n",
            "-|-|-\n",
            "\n",
            "Select your choice (0-8): 8\n",
            "X|O|-\n",
            "-|O|-\n",
            "-|-|X\n",
            "\n",
            "Select your choice (0-8): 7\n",
            "X|O|-\n",
            "-|O|-\n",
            "O|X|X\n",
            "\n",
            "Select your choice (0-8): 2\n",
            "X|O|X\n",
            "-|O|O\n",
            "O|X|X\n",
            "\n",
            "Select your choice (0-8): 3\n",
            "X|O|X\n",
            "X|O|O\n",
            "O|X|X\n",
            "\n",
            "It's a draw!\n"
          ]
        }
      ]
    }
  ]
}