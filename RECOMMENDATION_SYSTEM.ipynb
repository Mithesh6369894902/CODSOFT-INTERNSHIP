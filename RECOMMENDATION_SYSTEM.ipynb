{
  "nbformat": 4,
  "nbformat_minor": 0,
  "metadata": {
    "colab": {
      "provenance": [],
      "gpuType": "T4",
      "include_colab_link": true
    },
    "kernelspec": {
      "name": "python3",
      "display_name": "Python 3"
    },
    "language_info": {
      "name": "python"
    },
    "accelerator": "GPU"
  },
  "cells": [
    {
      "cell_type": "markdown",
      "metadata": {
        "id": "view-in-github",
        "colab_type": "text"
      },
      "source": [
        "<a href=\"https://colab.research.google.com/github/Mithesh6369894902/CODSOFT-INTERNSHIP/blob/main/RECOMMENDATION_SYSTEM.ipynb\" target=\"_parent\"><img src=\"https://colab.research.google.com/assets/colab-badge.svg\" alt=\"Open In Colab\"/></a>"
      ]
    },
    {
      "cell_type": "markdown",
      "source": [
        "**Importing the Necessities**"
      ],
      "metadata": {
        "id": "hT-UY3zExS03"
      }
    },
    {
      "cell_type": "code",
      "source": [
        "!pip install annoy"
      ],
      "metadata": {
        "id": "8wwsWz_6wsKX",
        "outputId": "0bbd7531-41d1-4a18-db3c-f5f3227dc4a0",
        "colab": {
          "base_uri": "https://localhost:8080/"
        }
      },
      "execution_count": 1,
      "outputs": [
        {
          "output_type": "stream",
          "name": "stdout",
          "text": [
            "Collecting annoy\n",
            "  Downloading annoy-1.17.3.tar.gz (647 kB)\n",
            "\u001b[2K     \u001b[90m━━━━━━━━━━━━━━━━━━━━━━━━━━━━━━━━━━━━━━━━\u001b[0m \u001b[32m647.5/647.5 kB\u001b[0m \u001b[31m5.8 MB/s\u001b[0m eta \u001b[36m0:00:00\u001b[0m\n",
            "\u001b[?25h  Preparing metadata (setup.py) ... \u001b[?25l\u001b[?25hdone\n",
            "Building wheels for collected packages: annoy\n",
            "  Building wheel for annoy (setup.py) ... \u001b[?25l\u001b[?25hdone\n",
            "  Created wheel for annoy: filename=annoy-1.17.3-cp310-cp310-linux_x86_64.whl size=550739 sha256=9921c30d05fccf6eadcab4b1af5e583dcde21a9eec6d5661360949903444b4d5\n",
            "  Stored in directory: /root/.cache/pip/wheels/64/8a/da/f714bcf46c5efdcfcac0559e63370c21abe961c48e3992465a\n",
            "Successfully built annoy\n",
            "Installing collected packages: annoy\n",
            "Successfully installed annoy-1.17.3\n"
          ]
        }
      ]
    },
    {
      "cell_type": "code",
      "source": [
        "import pandas as pd\n",
        "from sklearn.preprocessing import StandardScaler\n",
        "from annoy import AnnoyIndex"
      ],
      "metadata": {
        "id": "Yih8CCHau259"
      },
      "execution_count": 2,
      "outputs": []
    },
    {
      "cell_type": "markdown",
      "source": [
        "**Data Collection and Pre-processing**"
      ],
      "metadata": {
        "id": "546F_4u5xabn"
      }
    },
    {
      "cell_type": "code",
      "source": [
        "# Define data types for each column\n",
        "dtype = {\n",
        "    'danceability': float,\n",
        "    'energy': float,\n",
        "    'key': int,\n",
        "    'loudness': float,\n",
        "    'mode': int,\n",
        "    'speechiness': float,\n",
        "    'acousticness': float,\n",
        "    'instrumentalness': float,\n",
        "    'liveness': float,\n",
        "    'valence': float,\n",
        "    'tempo': float,\n",
        "    'type': str,\n",
        "    'id': str,\n",
        "    'uri': str,\n",
        "    'track_href': str,\n",
        "    'analysis_url': str,\n",
        "    'duration_ms': int,\n",
        "    'time_signature': int,\n",
        "    'genre': str,\n",
        "    'song_name': str,\n",
        "    'title': str\n",
        "}"
      ],
      "metadata": {
        "id": "EViqY87owvQG"
      },
      "execution_count": 3,
      "outputs": []
    },
    {
      "cell_type": "code",
      "source": [
        "from google.colab import drive\n",
        "drive.mount('/content/drive')"
      ],
      "metadata": {
        "colab": {
          "base_uri": "https://localhost:8080/"
        },
        "id": "La768xrI7v6D",
        "outputId": "6e2dd89c-0a8e-4f0a-b826-6d4143128cf7"
      },
      "execution_count": 4,
      "outputs": [
        {
          "output_type": "stream",
          "name": "stdout",
          "text": [
            "Mounted at /content/drive\n"
          ]
        }
      ]
    },
    {
      "cell_type": "code",
      "source": [
        "# Read the CSV file with the specified data types\n",
        "data = pd.read_csv('/content/drive/MyDrive/Spotify.csv', dtype=dtype, low_memory=False)\n",
        "\n",
        "# Select features for similarity calculation\n",
        "features = ['danceability', 'energy', 'key', 'loudness', 'mode', 'speechiness',\n",
        "            'acousticness', 'instrumentalness', 'liveness', 'valence', 'tempo']\n",
        "\n",
        "# Normalize the features\n",
        "scaler = StandardScaler()\n",
        "data[features] = scaler.fit_transform(data[features])"
      ],
      "metadata": {
        "id": "yrTQddZyw3lI"
      },
      "execution_count": 5,
      "outputs": []
    },
    {
      "cell_type": "markdown",
      "source": [
        "**Building Annoy Index with 10 Trees**"
      ],
      "metadata": {
        "id": "IdI5u3COxtwn"
      }
    },
    {
      "cell_type": "code",
      "source": [
        "# Initialize Annoy index\n",
        "f = len(features)\n",
        "t = AnnoyIndex(f, 'angular')\n",
        "\n",
        "# Add items to the Annoy index\n",
        "for i, row in data.iterrows():\n",
        "    t.add_item(i, row[features])\n",
        "\n",
        "# Build the Annoy index\n",
        "t.build(10)  # 10 trees"
      ],
      "metadata": {
        "colab": {
          "base_uri": "https://localhost:8080/"
        },
        "id": "-0nvDDgtw856",
        "outputId": "4d382ea3-9e24-433b-fccf-a008f1958d11"
      },
      "execution_count": 6,
      "outputs": [
        {
          "output_type": "execute_result",
          "data": {
            "text/plain": [
              "True"
            ]
          },
          "metadata": {},
          "execution_count": 6
        }
      ]
    },
    {
      "cell_type": "markdown",
      "source": [
        "**Function to Recommend Songs**"
      ],
      "metadata": {
        "id": "sB16iBgZx5QD"
      }
    },
    {
      "cell_type": "code",
      "source": [
        "# Function to recommend songs\n",
        "def recommend_songs(song_name, data, t, top_n=3):\n",
        "    if song_name not in data['song_name'].values:\n",
        "        raise ValueError(f\"Song '{song_name}' not found in the dataset.\")\n",
        "\n",
        "    song_index = data.index[data['song_name'] == song_name].tolist()[0]\n",
        "    similar_items = t.get_nns_by_item(song_index, top_n + 1)  # +1 to include the song itself\n",
        "    similar_items.remove(song_index)  # Remove the song itself\n",
        "\n",
        "    # Return the recommended song names\n",
        "    return data.iloc[similar_items]['song_name'].tolist()"
      ],
      "metadata": {
        "id": "14k6mVtMxAyV"
      },
      "execution_count": 7,
      "outputs": []
    },
    {
      "cell_type": "markdown",
      "source": [
        "**Example Recommendation**"
      ],
      "metadata": {
        "id": "rl95Ewx-yA6j"
      }
    },
    {
      "cell_type": "code",
      "source": [
        "# Example: Recommend songs similar to a specific song\n",
        "try:\n",
        "    recommendations = recommend_songs('Pathology', data, t)\n",
        "    print(f\"Recommended songs similar to 'Pathology': {recommendations}\")\n",
        "except ValueError as e:\n",
        "    print(e)"
      ],
      "metadata": {
        "colab": {
          "base_uri": "https://localhost:8080/"
        },
        "id": "K3fHLHfFxC0J",
        "outputId": "7b96eaf8-a91c-46a4-c641-e6801b07cef4"
      },
      "execution_count": 8,
      "outputs": [
        {
          "output_type": "stream",
          "name": "stdout",
          "text": [
            "Recommended songs similar to 'Pathology': ['Can Of Worms', 'Can Of Worms', 'Can Of Worms']\n"
          ]
        }
      ]
    }
  ]
}